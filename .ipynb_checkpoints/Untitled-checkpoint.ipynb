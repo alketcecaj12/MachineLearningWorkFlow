{
 "cells": [
  {
   "cell_type": "code",
   "execution_count": 3,
   "metadata": {},
   "outputs": [],
   "source": [
    "import tensorflow as tf"
   ]
  },
  {
   "cell_type": "code",
   "execution_count": 5,
   "metadata": {},
   "outputs": [],
   "source": [
    "# class weighted neural network on an imbalanced classification dataset\n",
    "from sklearn.datasets import make_classification\n",
    "from sklearn.metrics import roc_auc_score\n",
    "from tensorflow.keras.layers import Dense\n",
    "from tensorflow.keras.models import Sequential\n"
   ]
  },
  {
   "cell_type": "code",
   "execution_count": 6,
   "metadata": {},
   "outputs": [],
   "source": [
    "# prepare train and test dataset\n",
    "def prepare_data():\n",
    "    # generate 2d classification dataset\n",
    "    X, y = make_classification(n_samples=10000, n_features=2, n_redundant=0,\n",
    "    n_clusters_per_class=2, weights=[0.99], flip_y=0, random_state=4)\n",
    "    # split into train and test\n",
    "    n_train = 5000\n",
    "    trainX, testX = X[:n_train, :], X[n_train:, :]\n",
    "    trainy, testy = y[:n_train], y[n_train:]\n",
    "    return trainX, trainy, testX, testy\n",
    "\n",
    "# define the neural network model\n",
    "def define_model(n_input):\n",
    "    # define model\n",
    "    model = Sequential()\n",
    "    # define first hidden layer and visible layer\n",
    "    model.add(Dense(10, input_dim=n_input, activation='relu',\n",
    "    kernel_initializer='he_uniform'))\n",
    "    # define output layer\n",
    "    model.add(Dense(1, activation='sigmoid'))\n",
    "    # define loss and optimizer\n",
    "    model.compile(loss='binary_crossentropy', optimizer='sgd')\n",
    "    return model\n",
    "\n",
    "# prepare dataset\n",
    "trainX, trainy, testX, testy = prepare_data()\n",
    "# get the model"
   ]
  },
  {
   "cell_type": "code",
   "execution_count": 9,
   "metadata": {},
   "outputs": [
    {
     "data": {
      "text/plain": [
       "array([0, 0, 0, ..., 0, 0, 0])"
      ]
     },
     "execution_count": 9,
     "metadata": {},
     "output_type": "execute_result"
    }
   ],
   "source": [
    "trainy"
   ]
  },
  {
   "cell_type": "code",
   "execution_count": 7,
   "metadata": {},
   "outputs": [
    {
     "name": "stdout",
     "output_type": "stream",
     "text": [
      "WARNING:tensorflow:From /Users/alket/anaconda3/lib/python3.7/site-packages/tensorflow/python/ops/array_ops.py:5049: calling gather (from tensorflow.python.ops.array_ops) with validate_indices is deprecated and will be removed in a future version.\n",
      "Instructions for updating:\n",
      "The `validate_indices` argument has no effect. Indices are always validated on CPU and never validated on GPU.\n",
      "ROC AUC: 0.969\n"
     ]
    }
   ],
   "source": [
    "n_input = trainX.shape[1]\n",
    "model = define_model(n_input)\n",
    "# fit model\n",
    "weights = {0:1, 1:100}\n",
    "history = model.fit(trainX, trainy, class_weight=weights, epochs=100, verbose=0)\n",
    "# evaluate model\n",
    "yhat = model.predict(testX)\n",
    "score = roc_auc_score(testy, yhat)\n",
    "print('ROC AUC: %.3f' % score)"
   ]
  },
  {
   "cell_type": "code",
   "execution_count": null,
   "metadata": {},
   "outputs": [],
   "source": []
  },
  {
   "cell_type": "code",
   "execution_count": null,
   "metadata": {},
   "outputs": [],
   "source": []
  }
 ],
 "metadata": {
  "kernelspec": {
   "display_name": "Python 3",
   "language": "python",
   "name": "python3"
  },
  "language_info": {
   "codemirror_mode": {
    "name": "ipython",
    "version": 3
   },
   "file_extension": ".py",
   "mimetype": "text/x-python",
   "name": "python",
   "nbconvert_exporter": "python",
   "pygments_lexer": "ipython3",
   "version": "3.7.4"
  }
 },
 "nbformat": 4,
 "nbformat_minor": 2
}
